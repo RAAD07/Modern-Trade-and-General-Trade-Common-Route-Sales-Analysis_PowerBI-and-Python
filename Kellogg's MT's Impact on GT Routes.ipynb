{
 "cells": [
  {
   "cell_type": "markdown",
   "id": "788551be-3b15-4307-887c-2fd53e211774",
   "metadata": {},
   "source": [
    "### 1. Import Libraries"
   ]
  },
  {
   "cell_type": "code",
   "execution_count": 1,
   "id": "912e86cb-af52-40d6-9d93-70537b2f2ef8",
   "metadata": {},
   "outputs": [],
   "source": [
    "# Import core libraries\n",
    "import pandas as pd\n",
    "import matplotlib.pyplot as plt\n",
    "import seaborn as sns\n",
    "from scipy.stats import ttest_ind, f_oneway, pearsonr, spearmanr\n",
    "\n",
    "# Show all columns\n",
    "pd.set_option('display.max_columns', None)\n",
    "\n",
    "# Optional: Show all rows (if needed)\n",
    "# pd.set_option('display.max_rows', None)"
   ]
  },
  {
   "cell_type": "markdown",
   "id": "a2ed45da-f66f-41c0-9652-dbb1e74c3b68",
   "metadata": {},
   "source": [
    "### 2. Load the Dataset"
   ]
  },
  {
   "cell_type": "code",
   "execution_count": 2,
   "id": "af552050-6d7d-4715-9e80-750311a273e2",
   "metadata": {
    "scrolled": true
   },
   "outputs": [
    {
     "data": {
      "text/html": [
       "<div>\n",
       "<style scoped>\n",
       "    .dataframe tbody tr th:only-of-type {\n",
       "        vertical-align: middle;\n",
       "    }\n",
       "\n",
       "    .dataframe tbody tr th {\n",
       "        vertical-align: top;\n",
       "    }\n",
       "\n",
       "    .dataframe thead th {\n",
       "        text-align: right;\n",
       "    }\n",
       "</style>\n",
       "<table border=\"1\" class=\"dataframe\">\n",
       "  <thead>\n",
       "    <tr style=\"text-align: right;\">\n",
       "      <th></th>\n",
       "      <th>Outlet Name</th>\n",
       "      <th>Opeing Month</th>\n",
       "      <th>Related GT Route</th>\n",
       "      <th>No. of Outlets</th>\n",
       "      <th>GT Sales (Before)</th>\n",
       "      <th>GT Sales (After)</th>\n",
       "      <th>GT Growth%</th>\n",
       "      <th>Memo Count (Before)</th>\n",
       "      <th>Memo Count (After)</th>\n",
       "      <th>Memo Count Growth%</th>\n",
       "      <th>MT Sales (3 Months)</th>\n",
       "      <th>Route's Total Sales</th>\n",
       "      <th>Route's Growth%</th>\n",
       "      <th>Gap</th>\n",
       "      <th>District</th>\n",
       "      <th>Outlet Stetus</th>\n",
       "    </tr>\n",
       "  </thead>\n",
       "  <tbody>\n",
       "    <tr>\n",
       "      <th>0</th>\n",
       "      <td>Shwapno- Block D Mirpur 15 Outlet</td>\n",
       "      <td>10/1/2024</td>\n",
       "      <td>Mirpur-13 (Mirpur)</td>\n",
       "      <td>45</td>\n",
       "      <td>48240.96</td>\n",
       "      <td>158975.82</td>\n",
       "      <td>229.55%</td>\n",
       "      <td>61</td>\n",
       "      <td>180</td>\n",
       "      <td>195.08%</td>\n",
       "      <td>17705.14</td>\n",
       "      <td>176680.96</td>\n",
       "      <td>266.25%</td>\n",
       "      <td>128440.00</td>\n",
       "      <td>Dhaka</td>\n",
       "      <td>Metro</td>\n",
       "    </tr>\n",
       "    <tr>\n",
       "      <th>1</th>\n",
       "      <td>Agora-Hirajheel Siddirgong</td>\n",
       "      <td>2/1/2025</td>\n",
       "      <td>Hirajil (Siddergonj)</td>\n",
       "      <td>43</td>\n",
       "      <td>235776.55</td>\n",
       "      <td>435100.98</td>\n",
       "      <td>84.54%</td>\n",
       "      <td>293</td>\n",
       "      <td>278</td>\n",
       "      <td>-5.12%</td>\n",
       "      <td>11653.14</td>\n",
       "      <td>446754.12</td>\n",
       "      <td>89.48%</td>\n",
       "      <td>210977.57</td>\n",
       "      <td>Dhaka</td>\n",
       "      <td>Metro</td>\n",
       "    </tr>\n",
       "    <tr>\n",
       "      <th>2</th>\n",
       "      <td>Shwapno- Panchar Madaripur Outlet</td>\n",
       "      <td>1/1/2025</td>\n",
       "      <td>Shivchor (Madaripur)</td>\n",
       "      <td>47</td>\n",
       "      <td>172549.45</td>\n",
       "      <td>313219.66</td>\n",
       "      <td>81.52%</td>\n",
       "      <td>211</td>\n",
       "      <td>237</td>\n",
       "      <td>12.32%</td>\n",
       "      <td>27585.05</td>\n",
       "      <td>340804.71</td>\n",
       "      <td>97.51%</td>\n",
       "      <td>168255.26</td>\n",
       "      <td>Madaripur</td>\n",
       "      <td>Non-Metro</td>\n",
       "    </tr>\n",
       "    <tr>\n",
       "      <th>3</th>\n",
       "      <td>Shwapno- Cheragali Outlet</td>\n",
       "      <td>10/1/2024</td>\n",
       "      <td>Chareg Ali Samaj Kallan Road (Tongi)</td>\n",
       "      <td>30</td>\n",
       "      <td>137967.98</td>\n",
       "      <td>246993.64</td>\n",
       "      <td>79.02%</td>\n",
       "      <td>126</td>\n",
       "      <td>248</td>\n",
       "      <td>96.83%</td>\n",
       "      <td>15909.00</td>\n",
       "      <td>262902.64</td>\n",
       "      <td>90.55%</td>\n",
       "      <td>124934.66</td>\n",
       "      <td>Gazipur</td>\n",
       "      <td>Non-Metro</td>\n",
       "    </tr>\n",
       "    <tr>\n",
       "      <th>4</th>\n",
       "      <td>Shwapno-Nolta Bazar Satkhira Outlet</td>\n",
       "      <td>11/1/2024</td>\n",
       "      <td>Nalta (Satkhira)</td>\n",
       "      <td>26</td>\n",
       "      <td>44500.42</td>\n",
       "      <td>76058.95</td>\n",
       "      <td>70.92%</td>\n",
       "      <td>83</td>\n",
       "      <td>128</td>\n",
       "      <td>54.22%</td>\n",
       "      <td>11531.76</td>\n",
       "      <td>87590.71</td>\n",
       "      <td>96.83%</td>\n",
       "      <td>43090.29</td>\n",
       "      <td>Satkhira</td>\n",
       "      <td>Non-Metro</td>\n",
       "    </tr>\n",
       "  </tbody>\n",
       "</table>\n",
       "</div>"
      ],
      "text/plain": [
       "                           Outlet Name Opeing Month  \\\n",
       "0    Shwapno- Block D Mirpur 15 Outlet    10/1/2024   \n",
       "1           Agora-Hirajheel Siddirgong     2/1/2025   \n",
       "2    Shwapno- Panchar Madaripur Outlet     1/1/2025   \n",
       "3            Shwapno- Cheragali Outlet    10/1/2024   \n",
       "4  Shwapno-Nolta Bazar Satkhira Outlet    11/1/2024   \n",
       "\n",
       "                       Related GT Route  No. of Outlets  GT Sales (Before)  \\\n",
       "0                    Mirpur-13 (Mirpur)              45           48240.96   \n",
       "1                  Hirajil (Siddergonj)              43          235776.55   \n",
       "2                  Shivchor (Madaripur)              47          172549.45   \n",
       "3  Chareg Ali Samaj Kallan Road (Tongi)              30          137967.98   \n",
       "4                      Nalta (Satkhira)              26           44500.42   \n",
       "\n",
       "   GT Sales (After) GT Growth%  Memo Count (Before)  Memo Count (After)  \\\n",
       "0         158975.82    229.55%                   61                 180   \n",
       "1         435100.98     84.54%                  293                 278   \n",
       "2         313219.66     81.52%                  211                 237   \n",
       "3         246993.64     79.02%                  126                 248   \n",
       "4          76058.95     70.92%                   83                 128   \n",
       "\n",
       "  Memo Count Growth%  MT Sales (3 Months)  Route's Total Sales  \\\n",
       "0            195.08%             17705.14            176680.96   \n",
       "1             -5.12%             11653.14            446754.12   \n",
       "2             12.32%             27585.05            340804.71   \n",
       "3             96.83%             15909.00            262902.64   \n",
       "4             54.22%             11531.76             87590.71   \n",
       "\n",
       "  Route's Growth%        Gap   District Outlet Stetus  \n",
       "0         266.25%  128440.00      Dhaka         Metro  \n",
       "1          89.48%  210977.57      Dhaka         Metro  \n",
       "2          97.51%  168255.26  Madaripur     Non-Metro  \n",
       "3          90.55%  124934.66    Gazipur     Non-Metro  \n",
       "4          96.83%   43090.29   Satkhira     Non-Metro  "
      ]
     },
     "execution_count": 2,
     "metadata": {},
     "output_type": "execute_result"
    }
   ],
   "source": [
    "# Load dataset from the specific file path\n",
    "df = pd.read_csv('D:\\\\PowerBI\\\\Kellogg\\'s MT & GT Route Analysis\\\\Route-Wise GT Sales Pre vs Post MT Outlet Opening_Full table.csv')\n",
    "\n",
    "# Check the first few rows\n",
    "df.head()"
   ]
  },
  {
   "cell_type": "code",
   "execution_count": 3,
   "id": "59fbdc34-a5eb-4512-886b-c5e076ea40fb",
   "metadata": {},
   "outputs": [
    {
     "name": "stdout",
     "output_type": "stream",
     "text": [
      "<class 'pandas.core.frame.DataFrame'>\n",
      "RangeIndex: 33 entries, 0 to 32\n",
      "Data columns (total 16 columns):\n",
      " #   Column               Non-Null Count  Dtype  \n",
      "---  ------               --------------  -----  \n",
      " 0   Outlet Name          33 non-null     object \n",
      " 1   Opeing Month         33 non-null     object \n",
      " 2   Related GT Route     33 non-null     object \n",
      " 3   No. of Outlets       33 non-null     int64  \n",
      " 4   GT Sales (Before)    33 non-null     float64\n",
      " 5   GT Sales (After)     33 non-null     float64\n",
      " 6   GT Growth%           33 non-null     object \n",
      " 7   Memo Count (Before)  33 non-null     int64  \n",
      " 8   Memo Count (After)   33 non-null     int64  \n",
      " 9   Memo Count Growth%   33 non-null     object \n",
      " 10  MT Sales (3 Months)  33 non-null     float64\n",
      " 11  Route's Total Sales  33 non-null     float64\n",
      " 12  Route's Growth%      33 non-null     object \n",
      " 13  Gap                  33 non-null     float64\n",
      " 14  District             33 non-null     object \n",
      " 15  Outlet Stetus        33 non-null     object \n",
      "dtypes: float64(5), int64(3), object(8)\n",
      "memory usage: 4.3+ KB\n"
     ]
    }
   ],
   "source": [
    "# Check data types of each column\n",
    "df.info()"
   ]
  },
  {
   "cell_type": "code",
   "execution_count": 4,
   "id": "44562871-fa34-49dc-bd44-9889832be86d",
   "metadata": {},
   "outputs": [
    {
     "data": {
      "text/html": [
       "<div>\n",
       "<style scoped>\n",
       "    .dataframe tbody tr th:only-of-type {\n",
       "        vertical-align: middle;\n",
       "    }\n",
       "\n",
       "    .dataframe tbody tr th {\n",
       "        vertical-align: top;\n",
       "    }\n",
       "\n",
       "    .dataframe thead th {\n",
       "        text-align: right;\n",
       "    }\n",
       "</style>\n",
       "<table border=\"1\" class=\"dataframe\">\n",
       "  <thead>\n",
       "    <tr style=\"text-align: right;\">\n",
       "      <th></th>\n",
       "      <th>No. of Outlets</th>\n",
       "      <th>GT Sales (Before)</th>\n",
       "      <th>GT Sales (After)</th>\n",
       "      <th>Memo Count (Before)</th>\n",
       "      <th>Memo Count (After)</th>\n",
       "      <th>MT Sales (3 Months)</th>\n",
       "      <th>Route's Total Sales</th>\n",
       "      <th>Gap</th>\n",
       "    </tr>\n",
       "  </thead>\n",
       "  <tbody>\n",
       "    <tr>\n",
       "      <th>count</th>\n",
       "      <td>33.000000</td>\n",
       "      <td>33.000000</td>\n",
       "      <td>33.000000</td>\n",
       "      <td>33.000000</td>\n",
       "      <td>33.000000</td>\n",
       "      <td>33.000000</td>\n",
       "      <td>33.000000</td>\n",
       "      <td>33.000000</td>\n",
       "    </tr>\n",
       "    <tr>\n",
       "      <th>mean</th>\n",
       "      <td>40.242424</td>\n",
       "      <td>198142.532121</td>\n",
       "      <td>168328.354545</td>\n",
       "      <td>174.636364</td>\n",
       "      <td>179.272727</td>\n",
       "      <td>28503.087879</td>\n",
       "      <td>196831.442424</td>\n",
       "      <td>-1311.089697</td>\n",
       "    </tr>\n",
       "    <tr>\n",
       "      <th>std</th>\n",
       "      <td>10.295722</td>\n",
       "      <td>154964.843532</td>\n",
       "      <td>93212.684490</td>\n",
       "      <td>85.540129</td>\n",
       "      <td>73.236463</td>\n",
       "      <td>17079.984217</td>\n",
       "      <td>92012.130733</td>\n",
       "      <td>130953.528342</td>\n",
       "    </tr>\n",
       "    <tr>\n",
       "      <th>min</th>\n",
       "      <td>25.000000</td>\n",
       "      <td>23452.350000</td>\n",
       "      <td>25074.050000</td>\n",
       "      <td>24.000000</td>\n",
       "      <td>37.000000</td>\n",
       "      <td>0.000000</td>\n",
       "      <td>50632.840000</td>\n",
       "      <td>-575067.000000</td>\n",
       "    </tr>\n",
       "    <tr>\n",
       "      <th>25%</th>\n",
       "      <td>32.000000</td>\n",
       "      <td>112583.560000</td>\n",
       "      <td>87186.600000</td>\n",
       "      <td>114.000000</td>\n",
       "      <td>125.000000</td>\n",
       "      <td>15909.000000</td>\n",
       "      <td>123980.580000</td>\n",
       "      <td>-36715.010000</td>\n",
       "    </tr>\n",
       "    <tr>\n",
       "      <th>50%</th>\n",
       "      <td>39.000000</td>\n",
       "      <td>167708.250000</td>\n",
       "      <td>166825.500000</td>\n",
       "      <td>165.000000</td>\n",
       "      <td>193.000000</td>\n",
       "      <td>27650.970000</td>\n",
       "      <td>179325.510000</td>\n",
       "      <td>23370.190000</td>\n",
       "    </tr>\n",
       "    <tr>\n",
       "      <th>75%</th>\n",
       "      <td>47.000000</td>\n",
       "      <td>248128.830000</td>\n",
       "      <td>220025.400000</td>\n",
       "      <td>229.000000</td>\n",
       "      <td>223.000000</td>\n",
       "      <td>41332.630000</td>\n",
       "      <td>251386.060000</td>\n",
       "      <td>53743.040000</td>\n",
       "    </tr>\n",
       "    <tr>\n",
       "      <th>max</th>\n",
       "      <td>61.000000</td>\n",
       "      <td>858850.180000</td>\n",
       "      <td>435100.980000</td>\n",
       "      <td>399.000000</td>\n",
       "      <td>305.000000</td>\n",
       "      <td>64672.010000</td>\n",
       "      <td>446754.120000</td>\n",
       "      <td>210977.570000</td>\n",
       "    </tr>\n",
       "  </tbody>\n",
       "</table>\n",
       "</div>"
      ],
      "text/plain": [
       "       No. of Outlets  GT Sales (Before)  GT Sales (After)  \\\n",
       "count       33.000000          33.000000         33.000000   \n",
       "mean        40.242424      198142.532121     168328.354545   \n",
       "std         10.295722      154964.843532      93212.684490   \n",
       "min         25.000000       23452.350000      25074.050000   \n",
       "25%         32.000000      112583.560000      87186.600000   \n",
       "50%         39.000000      167708.250000     166825.500000   \n",
       "75%         47.000000      248128.830000     220025.400000   \n",
       "max         61.000000      858850.180000     435100.980000   \n",
       "\n",
       "       Memo Count (Before)  Memo Count (After)  MT Sales (3 Months)  \\\n",
       "count            33.000000           33.000000            33.000000   \n",
       "mean            174.636364          179.272727         28503.087879   \n",
       "std              85.540129           73.236463         17079.984217   \n",
       "min              24.000000           37.000000             0.000000   \n",
       "25%             114.000000          125.000000         15909.000000   \n",
       "50%             165.000000          193.000000         27650.970000   \n",
       "75%             229.000000          223.000000         41332.630000   \n",
       "max             399.000000          305.000000         64672.010000   \n",
       "\n",
       "       Route's Total Sales            Gap  \n",
       "count            33.000000      33.000000  \n",
       "mean         196831.442424   -1311.089697  \n",
       "std           92012.130733  130953.528342  \n",
       "min           50632.840000 -575067.000000  \n",
       "25%          123980.580000  -36715.010000  \n",
       "50%          179325.510000   23370.190000  \n",
       "75%          251386.060000   53743.040000  \n",
       "max          446754.120000  210977.570000  "
      ]
     },
     "execution_count": 4,
     "metadata": {},
     "output_type": "execute_result"
    }
   ],
   "source": [
    "# Optional: Quick summary of numerical columns\n",
    "df.describe()"
   ]
  },
  {
   "cell_type": "markdown",
   "id": "8bd0e6c4-a3f2-4df6-a3ea-6b43a643fb8b",
   "metadata": {},
   "source": [
    "### 3. Data Preparation"
   ]
  },
  {
   "cell_type": "code",
   "execution_count": 7,
   "id": "3842f103-a644-4a35-8629-a8df03feb96c",
   "metadata": {},
   "outputs": [
    {
     "data": {
      "text/plain": [
       "GT Growth%            float64\n",
       "Memo Count Growth%    float64\n",
       "dtype: object"
      ]
     },
     "execution_count": 7,
     "metadata": {},
     "output_type": "execute_result"
    }
   ],
   "source": [
    "# Remove % sign if it's present (in case the CSV file has % signs)\n",
    "df[['GT Growth%', 'Memo Count Growth%']].dtypes"
   ]
  },
  {
   "cell_type": "code",
   "execution_count": 9,
   "id": "21d28fa0-a269-48b2-a1c4-e3f052cb5f49",
   "metadata": {},
   "outputs": [
    {
     "name": "stdout",
     "output_type": "stream",
     "text": [
      "float64\n"
     ]
    }
   ],
   "source": [
    "# Safe conversion to string first (handles mixed data), removes '%' if present, then converts to float\n",
    "df['GT Growth%'] = df['GT Growth%'].astype(str).str.replace('%', '').astype(float)\n",
    "df['Memo Count Growth%'] = df['Memo Count Growth%'].astype(str).str.replace('%', '').astype(float)\n",
    "print(df['GT Growth%'].dtypes)"
   ]
  },
  {
   "cell_type": "code",
   "execution_count": 10,
   "id": "94073c95-85db-4964-a67c-5b251c6a1216",
   "metadata": {},
   "outputs": [
    {
     "data": {
      "text/plain": [
       "array([195.08,  -5.12,  12.32,  96.83,  54.22,  92.31,  30.43,  19.39,\n",
       "         3.72,  42.22,  20.83,   7.61,   6.13,  10.78,  19.01,  -9.61,\n",
       "         0.81, -12.74,  21.3 ,   3.59, -25.68,   5.26,  17.55, -26.32,\n",
       "       -24.51, -21.07, -64.24, -30.1 ,  41.91, -13.66, -45.65,  14.66,\n",
       "        54.17])"
      ]
     },
     "execution_count": 10,
     "metadata": {},
     "output_type": "execute_result"
    }
   ],
   "source": [
    "df['GT Growth%'].unique()\n",
    "df['Memo Count Growth%'].unique()"
   ]
  },
  {
   "cell_type": "markdown",
   "id": "77e511e5-faef-4923-852f-8306988e896a",
   "metadata": {},
   "source": [
    "## Correlation Analysis"
   ]
  },
  {
   "cell_type": "markdown",
   "id": "c788c94b-0028-492a-add4-fd5f0f525853",
   "metadata": {},
   "source": [
    "### 1. Outlet Status vs GT Growth %\n",
    "### ✅ Statistical Test: Independent T-test"
   ]
  },
  {
   "cell_type": "code",
   "execution_count": 12,
   "id": "be083d25-f2b4-4a7d-973b-e45abab03d97",
   "metadata": {},
   "outputs": [
    {
     "data": {
      "image/png": "[encoded data removed]",
      "text/plain": [
       "<Figure size 800x600 with 1 Axes>"
      ]
     },
     "metadata": {},
     "output_type": "display_data"
    },
    {
     "name": "stdout",
     "output_type": "stream",
     "text": [
      "T-statistic: -0.31650426210414284, P-value: 0.7540662348705961\n"
     ]
    }
   ],
   "source": [
    "import pandas as pd\n",
    "from scipy.stats import ttest_ind\n",
    "import seaborn as sns\n",
    "import matplotlib.pyplot as plt\n",
    "\n",
    "# Boxplot for visual comparison\n",
    "plt.figure(figsize=(8, 6))\n",
    "sns.boxplot(x='Outlet Stetus', y='GT Growth%', data=df)\n",
    "plt.title('GT Growth% by Outlet Status (Metro vs Non-Metro)')\n",
    "plt.show()\n",
    "\n",
    "# Independent T-test\n",
    "metro_gt = df[df['Outlet Stetus'] == 'Metro']['GT Growth%']\n",
    "non_metro_gt = df[df['Outlet Stetus'] == 'Non-Metro']['GT Growth%']\n",
    "\n",
    "t_stat_gt, p_value_gt = ttest_ind(metro_gt, non_metro_gt, equal_var=False)\n",
    "print(f\"T-statistic: {t_stat_gt}, P-value: {p_value_gt}\")"
   ]
  },
  {
   "cell_type": "markdown",
   "id": "3dfcb50e-2603-40b0-bd59-f4f16c47d8ba",
   "metadata": {},
   "source": [
    "### 2. Visualize GT Growth% by Division Status"
   ]
  },
  {
   "cell_type": "code",
   "execution_count": 13,
   "id": "14e921af-bccf-49e5-a48b-54ed8bd592e5",
   "metadata": {},
   "outputs": [
    {
     "data": {
      "text/html": [
       "<div>\n",
       "<style scoped>\n",
       "    .dataframe tbody tr th:only-of-type {\n",
       "        vertical-align: middle;\n",
       "    }\n",
       "\n",
       "    .dataframe tbody tr th {\n",
       "        vertical-align: top;\n",
       "    }\n",
       "\n",
       "    .dataframe thead th {\n",
       "        text-align: right;\n",
       "    }\n",
       "</style>\n",
       "<table border=\"1\" class=\"dataframe\">\n",
       "  <thead>\n",
       "    <tr style=\"text-align: right;\">\n",
       "      <th></th>\n",
       "      <th>District</th>\n",
       "      <th>Division Status</th>\n",
       "    </tr>\n",
       "  </thead>\n",
       "  <tbody>\n",
       "    <tr>\n",
       "      <th>0</th>\n",
       "      <td>Dhaka</td>\n",
       "      <td>Divisional</td>\n",
       "    </tr>\n",
       "    <tr>\n",
       "      <th>1</th>\n",
       "      <td>Dhaka</td>\n",
       "      <td>Divisional</td>\n",
       "    </tr>\n",
       "    <tr>\n",
       "      <th>2</th>\n",
       "      <td>Madaripur</td>\n",
       "      <td>Non-Divisional</td>\n",
       "    </tr>\n",
       "    <tr>\n",
       "      <th>3</th>\n",
       "      <td>Gazipur</td>\n",
       "      <td>Non-Divisional</td>\n",
       "    </tr>\n",
       "    <tr>\n",
       "      <th>4</th>\n",
       "      <td>Satkhira</td>\n",
       "      <td>Non-Divisional</td>\n",
       "    </tr>\n",
       "  </tbody>\n",
       "</table>\n",
       "</div>"
      ],
      "text/plain": [
       "    District Division Status\n",
       "0      Dhaka      Divisional\n",
       "1      Dhaka      Divisional\n",
       "2  Madaripur  Non-Divisional\n",
       "3    Gazipur  Non-Divisional\n",
       "4   Satkhira  Non-Divisional"
      ]
     },
     "execution_count": 13,
     "metadata": {},
     "output_type": "execute_result"
    }
   ],
   "source": [
    "# List of Divisional Districts\n",
    "divisional_districts = ['Barishal', 'Khulna', 'Rajshahi', 'Rangpur', 'Mymensingh', 'Sylhet', 'Chittagong', 'Dhaka', 'Comilla']\n",
    "\n",
    "# Create a new column 'Division Status'\n",
    "df['Division Status'] = df['District'].apply(lambda x: 'Divisional' if x in divisional_districts else 'Non-Divisional')\n",
    "\n",
    "# Check if it worked\n",
    "df[['District', 'Division Status']].head()"
   ]
  },
  {
   "cell_type": "code",
   "execution_count": 14,
   "id": "48ef549a-7193-4a6d-8ca4-d1798c751f00",
   "metadata": {},
   "outputs": [
    {
     "data": {
      "image/png": "[encoded data removed]",
      "text/plain": [
       "<Figure size 800x600 with 1 Axes>"
      ]
     },
     "metadata": {},
     "output_type": "display_data"
    }
   ],
   "source": [
    "# Boxplot to visualize\n",
    "plt.figure(figsize=(8, 6))\n",
    "sns.boxplot(x='Division Status', y='GT Growth%', data=df)\n",
    "plt.title('GT Growth% by Division Status (Divisional vs Non-Divisional)')\n",
    "plt.show()"
   ]
  },
  {
   "cell_type": "code",
   "execution_count": 15,
   "id": "3db3cc9c-652c-45f7-a21c-4c2fcf202594",
   "metadata": {},
   "outputs": [
    {
     "name": "stdout",
     "output_type": "stream",
     "text": [
      "T-statistic: -0.5546052399851192\n",
      "P-value: 0.5834899181558661\n"
     ]
    }
   ],
   "source": [
    "from scipy.stats import ttest_ind\n",
    "\n",
    "# Split the data\n",
    "divisional_gt = df[df['Division Status'] == 'Divisional']['GT Growth%']\n",
    "non_divisional_gt = df[df['Division Status'] == 'Non-Divisional']['GT Growth%']\n",
    "\n",
    "# T-Test\n",
    "t_stat, p_value = ttest_ind(divisional_gt, non_divisional_gt, equal_var=False)\n",
    "\n",
    "print(f\"T-statistic: {t_stat}\")\n",
    "print(f\"P-value: {p_value}\")"
   ]
  },
  {
   "cell_type": "markdown",
   "id": "8b32b616-4e49-4a77-8e6c-52dd67d46147",
   "metadata": {},
   "source": [
    "### 3. Outlet Status vs Memo Growth %\n",
    "### ✅ Statistical Test: Independent T-test"
   ]
  },
  {
   "cell_type": "code",
   "execution_count": 16,
   "id": "7dc0f3d1-e48a-4e5d-a084-0a297ec07364",
   "metadata": {},
   "outputs": [
    {
     "data": {
      "image/png": "[encoded data removed]",
      "text/plain": [
       "<Figure size 800x600 with 1 Axes>"
      ]
     },
     "metadata": {},
     "output_type": "display_data"
    },
    {
     "name": "stdout",
     "output_type": "stream",
     "text": [
      "T-statistic: 0.3984953073626294, P-value: 0.6932768640540907\n"
     ]
    }
   ],
   "source": [
    "# Boxplot for visual comparison\n",
    "plt.figure(figsize=(8, 6))\n",
    "sns.boxplot(x='Outlet Stetus', y='Memo Count Growth%', data=df)\n",
    "plt.title('Memo Count Growth% by Outlet Status (Metro vs Non-Metro)')\n",
    "plt.show()\n",
    "\n",
    "# Independent T-test\n",
    "metro_memo = df[df['Outlet Stetus'] == 'Metro']['Memo Count Growth%']\n",
    "non_metro_memo = df[df['Outlet Stetus'] == 'Non-Metro']['Memo Count Growth%']\n",
    "\n",
    "t_stat_memo, p_value_memo = ttest_ind(metro_memo, non_metro_memo, equal_var=False)\n",
    "print(f\"T-statistic: {t_stat_memo}, P-value: {p_value_memo}\")"
   ]
  },
  {
   "cell_type": "markdown",
   "id": "92589498-fc77-4fcf-9cf3-173c3562affc",
   "metadata": {},
   "source": [
    "### 4. Memo Count Growth% vs Division Status"
   ]
  },
  {
   "cell_type": "code",
   "execution_count": 19,
   "id": "c7b898bc-5483-4927-813c-2ef35a8764bb",
   "metadata": {},
   "outputs": [
    {
     "data": {
      "image/png": "[encoded data removed]",
      "text/plain": [
       "<Figure size 800x600 with 1 Axes>"
      ]
     },
     "metadata": {},
     "output_type": "display_data"
    },
    {
     "name": "stdout",
     "output_type": "stream",
     "text": [
      "T-statistic: 0.6172385840955764\n",
      "P-value: 0.5417490313459478\n"
     ]
    }
   ],
   "source": [
    "import matplotlib.pyplot as plt\n",
    "import seaborn as sns\n",
    "\n",
    "# Boxplot for Memo Count Growth% by Division Status\n",
    "plt.figure(figsize=(8, 6))\n",
    "sns.boxplot(x='Division Status', y='Memo Count Growth%', data=df)\n",
    "plt.title('Memo Count Growth% by Division Status (Divisional vs Non-Divisional)')\n",
    "plt.xlabel('Division Status')\n",
    "plt.ylabel('Memo Count Growth%')\n",
    "plt.show()\n",
    "\n",
    "from scipy.stats import ttest_ind\n",
    "\n",
    "# Create group samples\n",
    "divisional_memo = df[df['Division Status'] == 'Divisional']['Memo Count Growth%']\n",
    "non_divisional_memo = df[df['Division Status'] == 'Non-Divisional']['Memo Count Growth%']\n",
    "\n",
    "# Run T-Test\n",
    "t_stat_memo, p_value_memo = ttest_ind(divisional_memo, non_divisional_memo, equal_var=False)\n",
    "\n",
    "print(f\"T-statistic: {t_stat_memo}\")\n",
    "print(f\"P-value: {p_value_memo}\")"
   ]
  },
  {
   "cell_type": "code",
   "execution_count": null,
   "id": "e2fe5d15-078d-4e8c-990b-0c43efa80c3b",
   "metadata": {},
   "outputs": [],
   "source": []
  }
 ],
 "metadata": {
  "kernelspec": {
   "display_name": "Python 3 (ipykernel)",
   "language": "python",
   "name": "python3"
  },
  "language_info": {
   "codemirror_mode": {
    "name": "ipython",
    "version": 3
   },
   "file_extension": ".py",
   "mimetype": "text/x-python",
   "name": "python",
   "nbconvert_exporter": "python",
   "pygments_lexer": "ipython3",
   "version": "3.12.7"
  }
 },
 "nbformat": 4,
 "nbformat_minor": 5
}
